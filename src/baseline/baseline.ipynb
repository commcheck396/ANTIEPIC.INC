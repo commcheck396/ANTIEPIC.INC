{
 "cells": [
  {
   "cell_type": "code",
   "execution_count": 78,
   "metadata": {},
   "outputs": [],
   "source": [
    "import json\n",
    "import json5\n",
    "import demjson"
   ]
  },
  {
   "cell_type": "code",
   "execution_count": 112,
   "metadata": {},
   "outputs": [],
   "source": [
    "with open('../../data/australian_user_reviews.json', 'r') as f:\n",
    "    # user_reviews = demjson.decode(f.read())\n",
    "    user_reviews = json.load(f)\n"
   ]
  },
  {
   "cell_type": "code",
   "execution_count": 113,
   "metadata": {},
   "outputs": [
    {
     "data": {
      "text/plain": [
       "{'user_id': '76561197970982479',\n",
       " 'user_url': 'http://steamcommunity.com/profiles/76561197970982479',\n",
       " 'reviews': [{'funny': '',\n",
       "   'posted': 'Posted November 5, 2011.',\n",
       "   'last_edited': '',\n",
       "   'item_id': '1250',\n",
       "   'helpful': 'No ratings yet',\n",
       "   'recommend': True},\n",
       "  {'funny': '',\n",
       "   'posted': 'Posted July 15, 2011.',\n",
       "   'last_edited': '',\n",
       "   'item_id': '22200',\n",
       "   'helpful': 'No ratings yet',\n",
       "   'recommend': True},\n",
       "  {'funny': '',\n",
       "   'posted': 'Posted April 21, 2011.',\n",
       "   'last_edited': '',\n",
       "   'item_id': '43110',\n",
       "   'helpful': 'No ratings yet',\n",
       "   'recommend': True}]}"
      ]
     },
     "execution_count": 113,
     "metadata": {},
     "output_type": "execute_result"
    }
   ],
   "source": [
    "user_reviews[0]"
   ]
  },
  {
   "cell_type": "code",
   "execution_count": 114,
   "metadata": {},
   "outputs": [],
   "source": [
    "\n",
    "with open('../../data/australian_users_items.json', 'r') as f:\n",
    "    # user_items = demjson.decode(f.read())\n",
    "    user_items = json.load(f)\n"
   ]
  },
  {
   "cell_type": "code",
   "execution_count": 115,
   "metadata": {},
   "outputs": [
    {
     "data": {
      "text/plain": [
       "{'user_id': 'Wackky',\n",
       " 'items_count': 0,\n",
       " 'steam_id': '76561198039117046',\n",
       " 'user_url': 'http://steamcommunity.com/id/Wackky',\n",
       " 'items': []}"
      ]
     },
     "execution_count": 115,
     "metadata": {},
     "output_type": "execute_result"
    }
   ],
   "source": [
    "user_items[0]"
   ]
  },
  {
   "cell_type": "code",
   "execution_count": 134,
   "metadata": {},
   "outputs": [],
   "source": [
    "with open('../../data/steam_games.json', 'r') as f:\n",
    "    # steam_games = demjson.decode(f.read())\n",
    "    steam_games = json.load(f)\n",
    "\n",
    "# with open('../../data/steam_review.json', 'r') as f:\n",
    "#     steam_reviews = demjson.decode(f.read())"
   ]
  },
  {
   "cell_type": "code",
   "execution_count": null,
   "metadata": {},
   "outputs": [
    {
     "data": {
      "text/plain": [
       "{'publisher': 'Kotoshiro',\n",
       " 'genres': ['Action', 'Casual', 'Indie', 'Simulation', 'Strategy'],\n",
       " 'app_name': 'Lost Summoner Kitty',\n",
       " 'title': 'Lost Summoner Kitty',\n",
       " 'url': 'http://store.steampowered.com/app/761140/Lost_Summoner_Kitty/',\n",
       " 'release_date': '2018-01-04',\n",
       " 'tags': ['Strategy', 'Action', 'Indie', 'Casual', 'Simulation'],\n",
       " 'discount_price': 4.49,\n",
       " 'reviews_url': 'http://steamcommunity.com/app/761140/reviews/?browsefilter=mostrecent&p=1',\n",
       " 'specs': ['Single-player'],\n",
       " 'price': 4.99,\n",
       " 'early_access': False,\n",
       " 'id': '761140',\n",
       " 'developer': 'Kotoshiro'}"
      ]
     },
     "execution_count": 65,
     "metadata": {},
     "output_type": "execute_result"
    }
   ],
   "source": [
    "steam_games[0]"
   ]
  },
  {
   "cell_type": "code",
   "execution_count": 85,
   "metadata": {},
   "outputs": [],
   "source": [
    "# {'publisher': 'Kotoshiro',\n",
    "#  'genres': ['Action', 'Casual', 'Indie', 'Simulation', 'Strategy'],\n",
    "#  'app_name': 'Lost Summoner Kitty',\n",
    "#  'title': 'Lost Summoner Kitty',\n",
    "#  'url': 'http://store.steampowered.com/app/761140/Lost_Summoner_Kitty/',\n",
    "#  'release_date': '2018-01-04',\n",
    "#  'tags': ['Strategy', 'Action', 'Indie', 'Casual', 'Simulation'],\n",
    "#  'discount_price': 4.49,\n",
    "#  'reviews_url': 'http://steamcommunity.com/app/761140/reviews/?browsefilter=mostrecent&p=1',\n",
    "#  'specs': ['Single-player'],\n",
    "#  'price': 4.99,\n",
    "#  'early_access': False,\n",
    "#  'id': '761140',\n",
    "#  'developer': 'Kotoshiro'}\n",
    "        \n",
    "\n",
    "game_details = {\n",
    "    game.get('id', None): {\n",
    "        'developer': game.get('developer', None),\n",
    "        'tags': game.get('tags', None)\n",
    "    } for game in steam_games if game.get('id') is not None \n",
    "}\n",
    "\n",
    "\n",
    "\n",
    "user_data = {}\n",
    "user_game_reviews = {}\n",
    "user_data_map = {}\n",
    "\n",
    "for user in user_reviews:\n",
    "    user_id = user['user_id']\n",
    "    user_data[user_id] = {\n",
    "        # 'user_url': user['user_url'],\n",
    "        'reviews': []\n",
    "    }\n",
    "\n",
    "    for review in user['reviews']:\n",
    "        game_id = review['item_id']\n",
    "        game_info = game_details.get(game_id, {})\n",
    "        user_data[user_id]['reviews'].append({\n",
    "            'game_id': game_id,\n",
    "            'posted': review['posted'],\n",
    "            'recommend': review['recommend']\n",
    "        })\n",
    "\n",
    "for user in user_reviews:\n",
    "    user_id = user['user_id']\n",
    "    user_data_map[user_id] = {\n",
    "        'reviews': {}\n",
    "    }\n",
    "\n",
    "    for review in user['reviews']:\n",
    "        game_id = review['item_id']\n",
    "        game_info = game_details.get(game_id, {})\n",
    "        user_data_map[user_id][game_id] = {\n",
    "            'posted': review['posted'],\n",
    "            'recommend': review['recommend']\n",
    "        }\n",
    "\n",
    "\n",
    "\n",
    "for user in user_items:\n",
    "    user_id = user['user_id']\n",
    "    if user_id in user_data: \n",
    "        user_data[user_id]['items'] = []\n",
    "        for item in user['items']:\n",
    "            game_id = item['item_id']\n",
    "            game_info = game_details.get(game_id, {})\n",
    "            user_data[user_id]['items'].append({\n",
    "                'game_id': game_id,\n",
    "                'playtime_forever': item['playtime_forever'],\n",
    "            })\n"
   ]
  },
  {
   "cell_type": "code",
   "execution_count": 86,
   "metadata": {},
   "outputs": [],
   "source": [
    "# output to json\n",
    "with open('../../data/user_data.json', 'w') as f:\n",
    "    f.write(json.dumps(user_data, indent=4))\n",
    "\n",
    "with open('../../data/user_data_map.json', 'w') as f:\n",
    "    f.write(json.dumps(user_data_map, indent=4))\n",
    "\n",
    "# game_details\n",
    "with open('../../data/game_details.json', 'w') as f:\n",
    "    f.write(json.dumps(game_details, indent=4))\n",
    "\n",
    "# user_game_reviews\n",
    "with open('../../data/user_game_reviews.json', 'w') as f:\n",
    "    f.write(json.dumps(user_game_reviews, indent=4))"
   ]
  },
  {
   "cell_type": "code",
   "execution_count": null,
   "metadata": {},
   "outputs": [],
   "source": [
    "import pandas as pd\n",
    "from sklearn.model_selection import train_test_split\n",
    "from sklearn.ensemble import RandomForestClassifier\n",
    "from sklearn.metrics import classification_report\n",
    "import numpy as np\n",
    "\n",
    "data = []\n",
    "for user_id, user_info in user_data.items():\n",
    "    if 'items' not in user_info:\n",
    "        continue\n",
    "    \n",
    "    for item in user_info['items']:\n",
    "        game_id = item['game_id']\n",
    "        playtime = item['playtime_forever']\n",
    "        review = next((r for r in user_info['reviews'] if r['game_id'] == game_id), None)\n",
    "        if review:\n",
    "            recommend = review['recommend']\n",
    "            \n",
    "            game_reviews = user_game_reviews.get(game_id, [])\n",
    "            overall_positive_rate = sum(1 for r in game_reviews if r['recommend']) / len(game_reviews) if game_reviews else 0\n",
    "            \n",
    "            user_positive_rate = sum(1 for r in user_info['reviews'] if r['recommend']) / len(user_info['reviews'])\n",
    "            \n",
    "            # 游戏分类的Jaccard相似性\n",
    "            user_tags = set(tag for r in user_info['reviews'] for tag in game_details.get(r['game_id'], {}).get('tags', []))\n",
    "            game_tags = set(game_details.get(game_id, {}).get('tags', []))\n",
    "            tag_jaccard = len(user_tags & game_tags) / len(user_tags | game_tags) if user_tags | game_tags else 0\n",
    "            \n",
    "            # 游戏开发者的Jaccard相似性\n",
    "            user_devs = set(game_details.get(r['game_id'], {}).get('developer', None) for r in user_info['reviews'])\n",
    "            game_dev = game_details.get(game_id, {}).get('developer', None)\n",
    "            dev_jaccard = int(game_dev in user_devs)  # 1 if matches, 0 otherwise\n",
    "            \n",
    "            data.append({\n",
    "                'user_id': user_id,\n",
    "                'game_id': game_id,\n",
    "                'playtime_forever': playtime,\n",
    "                'overall_positive_rate': overall_positive_rate,\n",
    "                'user_positive_rate': user_positive_rate,\n",
    "                'tag_jaccard': tag_jaccard,\n",
    "                'dev_jaccard': dev_jaccard,\n",
    "                'recommend': int(recommend)\n",
    "            })\n",
    "\n",
    "df = pd.DataFrame(data)\n",
    "\n",
    "X = df[['playtime_forever', 'overall_positive_rate', 'user_positive_rate', 'tag_jaccard', 'dev_jaccard']]\n",
    "y = df['recommend']"
   ]
  },
  {
   "cell_type": "code",
   "execution_count": null,
   "metadata": {},
   "outputs": [
    {
     "name": "stdout",
     "output_type": "stream",
     "text": [
      "              precision    recall  f1-score   support\n",
      "\n",
      "           0       0.00      0.00      0.00         2\n",
      "           1       0.78      0.88      0.82         8\n",
      "\n",
      "    accuracy                           0.70        10\n",
      "   macro avg       0.39      0.44      0.41        10\n",
      "weighted avg       0.62      0.70      0.66        10\n",
      "\n"
     ]
    }
   ],
   "source": [
    "X_train, X_test, y_train, y_test = train_test_split(X, y, test_size=0.2, random_state=42)\n",
    "\n",
    "model = RandomForestClassifier(random_state=42)\n",
    "model.fit(X_train, y_train)\n",
    "\n",
    "y_pred = model.predict(X_test)\n",
    "print(classification_report(y_test, y_pred))\n"
   ]
  },
  {
   "cell_type": "code",
   "execution_count": null,
   "metadata": {},
   "outputs": [
    {
     "name": "stdout",
     "output_type": "stream",
     "text": [
      "1\n"
     ]
    },
    {
     "name": "stderr",
     "output_type": "stream",
     "text": [
      "/home/commcheck/.local/lib/python3.10/site-packages/sklearn/base.py:493: UserWarning: X does not have valid feature names, but RandomForestClassifier was fitted with feature names\n",
      "  warnings.warn(\n"
     ]
    }
   ],
   "source": [
    "def predict_recommendation(user_id, game_id):\n",
    "    user_info = user_data.get(user_id, {})\n",
    "    game_info = game_details.get(game_id, {})\n",
    "    \n",
    "    playtime = next((item['playtime_forever'] for item in user_info.get('items', []) if item['game_id'] == game_id), 0)\n",
    "    \n",
    "    overall_positive_rate = sum(1 for r in user_game_reviews.get(game_id, []) if r['recommend']) / len(user_game_reviews.get(game_id, [])) if user_game_reviews.get(game_id, []) else 0\n",
    "    user_positive_rate = sum(1 for r in user_info.get('reviews', []) if r['recommend']) / len(user_info.get('reviews', [])) if user_info.get('reviews', []) else 0\n",
    "    \n",
    "    user_tags = set(tag for r in user_info.get('reviews', []) for tag in game_details.get(r['game_id'], {}).get('tags', []))\n",
    "    game_tags = set(game_info.get('tags', []))\n",
    "    tag_jaccard = len(user_tags & game_tags) / len(user_tags | game_tags) if user_tags | game_tags else 0\n",
    "    \n",
    "    user_devs = set(game_details.get(r['game_id'], {}).get('developer', None) for r in user_info.get('reviews', []))\n",
    "    game_dev = game_info.get('developer', None)\n",
    "    dev_jaccard = int(game_dev in user_devs)\n",
    "    \n",
    "    features = [[playtime, overall_positive_rate, user_positive_rate, tag_jaccard, dev_jaccard]]\n",
    "    return model.predict(features)[0]\n"
   ]
  },
  {
   "cell_type": "code",
   "execution_count": 91,
   "metadata": {},
   "outputs": [
    {
     "name": "stdout",
     "output_type": "stream",
     "text": [
      "              precision    recall  f1-score   support\n",
      "\n",
      "           0       0.00      0.00      0.00         2\n",
      "           1       0.80      1.00      0.89         8\n",
      "\n",
      "    accuracy                           0.80        10\n",
      "   macro avg       0.40      0.50      0.44        10\n",
      "weighted avg       0.64      0.80      0.71        10\n",
      "\n"
     ]
    },
    {
     "name": "stderr",
     "output_type": "stream",
     "text": [
      "/home/commcheck/.local/lib/python3.10/site-packages/sklearn/linear_model/_logistic.py:469: ConvergenceWarning: lbfgs failed to converge (status=1):\n",
      "STOP: TOTAL NO. of ITERATIONS REACHED LIMIT.\n",
      "\n",
      "Increase the number of iterations (max_iter) or scale the data as shown in:\n",
      "    https://scikit-learn.org/stable/modules/preprocessing.html\n",
      "Please also refer to the documentation for alternative solver options:\n",
      "    https://scikit-learn.org/stable/modules/linear_model.html#logistic-regression\n",
      "  n_iter_i = _check_optimize_result(\n",
      "/home/commcheck/.local/lib/python3.10/site-packages/sklearn/metrics/_classification.py:1531: UndefinedMetricWarning: Precision is ill-defined and being set to 0.0 in labels with no predicted samples. Use `zero_division` parameter to control this behavior.\n",
      "  _warn_prf(average, modifier, f\"{metric.capitalize()} is\", len(result))\n",
      "/home/commcheck/.local/lib/python3.10/site-packages/sklearn/metrics/_classification.py:1531: UndefinedMetricWarning: Precision is ill-defined and being set to 0.0 in labels with no predicted samples. Use `zero_division` parameter to control this behavior.\n",
      "  _warn_prf(average, modifier, f\"{metric.capitalize()} is\", len(result))\n",
      "/home/commcheck/.local/lib/python3.10/site-packages/sklearn/metrics/_classification.py:1531: UndefinedMetricWarning: Precision is ill-defined and being set to 0.0 in labels with no predicted samples. Use `zero_division` parameter to control this behavior.\n",
      "  _warn_prf(average, modifier, f\"{metric.capitalize()} is\", len(result))\n"
     ]
    }
   ],
   "source": [
    "from sklearn.ensemble import VotingClassifier\n",
    "from sklearn.linear_model import LogisticRegression\n",
    "from sklearn.svm import SVC\n",
    "from sklearn.tree import DecisionTreeClassifier\n",
    "\n",
    "model1 = LogisticRegression()\n",
    "model2 = RandomForestClassifier()\n",
    "model3 = SVC()\n",
    "\n",
    "voting_clf = VotingClassifier(estimators=[('lr', model1), ('rf', model2), ('svc', model3)], voting='hard')\n",
    "\n",
    "voting_clf.fit(X_train, y_train)\n",
    "\n",
    "y_pred_voting = voting_clf.predict(X_test)\n",
    "print(classification_report(y_test, y_pred_voting))\n"
   ]
  }
 ],
 "metadata": {
  "kernelspec": {
   "display_name": "Python 3",
   "language": "python",
   "name": "python3"
  },
  "language_info": {
   "codemirror_mode": {
    "name": "ipython",
    "version": 3
   },
   "file_extension": ".py",
   "mimetype": "text/x-python",
   "name": "python",
   "nbconvert_exporter": "python",
   "pygments_lexer": "ipython3",
   "version": "3.10.12"
  }
 },
 "nbformat": 4,
 "nbformat_minor": 2
}
