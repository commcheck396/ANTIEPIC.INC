{
 "cells": [
  {
   "cell_type": "code",
   "execution_count": 34,
   "metadata": {},
   "outputs": [],
   "source": [
    "import json\n",
    "import json5\n",
    "import demjson"
   ]
  },
  {
   "cell_type": "code",
   "execution_count": 60,
   "metadata": {},
   "outputs": [],
   "source": [
    "with open('../../data/australian_user_reviews.json', 'r') as f:\n",
    "    user_reviews = demjson.decode(f.read())\n"
   ]
  },
  {
   "cell_type": "code",
   "execution_count": 69,
   "metadata": {},
   "outputs": [
    {
     "data": {
      "text/plain": [
       "{'user_id': '76561197970982479',\n",
       " 'user_url': 'http://steamcommunity.com/profiles/76561197970982479',\n",
       " 'reviews': [{'funny': '',\n",
       "   'posted': 'Posted November 5, 2011.',\n",
       "   'last_edited': '',\n",
       "   'item_id': '1250',\n",
       "   'helpful': 'No ratings yet',\n",
       "   'recommend': True,\n",
       "   'review': 'Simple yet with great replayability. In my opinion does \"zombie\" hordes and team work better than left 4 dead plus has a global leveling system. Alot of down to earth \"zombie\" splattering fun for the whole family. Amazed this sort of FPS is so rare.'},\n",
       "  {'funny': '',\n",
       "   'posted': 'Posted July 15, 2011.',\n",
       "   'last_edited': '',\n",
       "   'item_id': '22200',\n",
       "   'helpful': 'No ratings yet',\n",
       "   'recommend': True,\n",
       "   'review': \"It's unique and worth a playthrough.\"},\n",
       "  {'funny': '',\n",
       "   'posted': 'Posted April 21, 2011.',\n",
       "   'last_edited': '',\n",
       "   'item_id': '43110',\n",
       "   'helpful': 'No ratings yet',\n",
       "   'recommend': True,\n",
       "   'review': 'Great atmosphere. The gunplay can be a bit chunky at times but at the end of the day this game is definitely worth it and I hope they do a sequel...so buy the game so I get a sequel!'}]}"
      ]
     },
     "execution_count": 69,
     "metadata": {},
     "output_type": "execute_result"
    }
   ],
   "source": [
    "user_reviews[0]"
   ]
  },
  {
   "cell_type": "code",
   "execution_count": 61,
   "metadata": {},
   "outputs": [],
   "source": [
    "\n",
    "with open('../../data/australian_users_items.json', 'r') as f:\n",
    "    user_items = demjson.decode(f.read())\n"
   ]
  },
  {
   "cell_type": "code",
   "execution_count": 68,
   "metadata": {},
   "outputs": [
    {
     "data": {
      "text/plain": [
       "{'user_id': 'Wackky',\n",
       " 'items_count': 0,\n",
       " 'steam_id': '76561198039117046',\n",
       " 'user_url': 'http://steamcommunity.com/id/Wackky',\n",
       " 'items': []}"
      ]
     },
     "execution_count": 68,
     "metadata": {},
     "output_type": "execute_result"
    }
   ],
   "source": [
    "user_items[0]"
   ]
  },
  {
   "cell_type": "code",
   "execution_count": 62,
   "metadata": {},
   "outputs": [],
   "source": [
    "with open('../../data/steam_games.json', 'r') as f:\n",
    "    steam_games = demjson.decode(f.read())\n",
    "\n",
    "# with open('../../data/steam_review.json', 'r') as f:\n",
    "#     steam_reviews = demjson.decode(f.read())"
   ]
  },
  {
   "cell_type": "code",
   "execution_count": 65,
   "metadata": {},
   "outputs": [
    {
     "data": {
      "text/plain": [
       "{'publisher': 'Kotoshiro',\n",
       " 'genres': ['Action', 'Casual', 'Indie', 'Simulation', 'Strategy'],\n",
       " 'app_name': 'Lost Summoner Kitty',\n",
       " 'title': 'Lost Summoner Kitty',\n",
       " 'url': 'http://store.steampowered.com/app/761140/Lost_Summoner_Kitty/',\n",
       " 'release_date': '2018-01-04',\n",
       " 'tags': ['Strategy', 'Action', 'Indie', 'Casual', 'Simulation'],\n",
       " 'discount_price': 4.49,\n",
       " 'reviews_url': 'http://steamcommunity.com/app/761140/reviews/?browsefilter=mostrecent&p=1',\n",
       " 'specs': ['Single-player'],\n",
       " 'price': 4.99,\n",
       " 'early_access': False,\n",
       " 'id': '761140',\n",
       " 'developer': 'Kotoshiro'}"
      ]
     },
     "execution_count": 65,
     "metadata": {},
     "output_type": "execute_result"
    }
   ],
   "source": [
    "steam_games[0]"
   ]
  },
  {
   "cell_type": "code",
   "execution_count": null,
   "metadata": {},
   "outputs": [],
   "source": [
    "# {'publisher': 'Kotoshiro',\n",
    "#  'genres': ['Action', 'Casual', 'Indie', 'Simulation', 'Strategy'],\n",
    "#  'app_name': 'Lost Summoner Kitty',\n",
    "#  'title': 'Lost Summoner Kitty',\n",
    "#  'url': 'http://store.steampowered.com/app/761140/Lost_Summoner_Kitty/',\n",
    "#  'release_date': '2018-01-04',\n",
    "#  'tags': ['Strategy', 'Action', 'Indie', 'Casual', 'Simulation'],\n",
    "#  'discount_price': 4.49,\n",
    "#  'reviews_url': 'http://steamcommunity.com/app/761140/reviews/?browsefilter=mostrecent&p=1',\n",
    "#  'specs': ['Single-player'],\n",
    "#  'price': 4.99,\n",
    "#  'early_access': False,\n",
    "#  'id': '761140',\n",
    "#  'developer': 'Kotoshiro'}\n",
    "        \n",
    "\n",
    "game_details = {\n",
    "    game.get('id', None): {\n",
    "        'developer': game.get('developer', None),\n",
    "        'tags': game.get('tags', None)\n",
    "        # 'app_name': game.get('app_name', None),\n",
    "        # 'price': game.get('price', None),\n",
    "        # 'genres': game.get('genres', None),\n",
    "        # 'discount_price': game.get('discount_price', None)\n",
    "        # 'specs': game.get('specs', None),\n",
    "        # 'early_access': game.get('early_access', None),\n",
    "        # 'url': game.get('url', None),\n",
    "        # 'publisher': game.get('publisher', None),\n",
    "        # 'reviews_url': game.get('reviews_url', None)\n",
    "    } for game in steam_games if game.get('id') is not None \n",
    "}\n",
    "\n",
    "\n",
    "\n",
    "user_data = {}\n",
    "user_game_reviews = {}\n",
    "user_data_map = {}\n",
    "\n",
    "for user in user_reviews:\n",
    "    user_id = user['user_id']\n",
    "    user_data[user_id] = {\n",
    "        # 'user_url': user['user_url'],\n",
    "        'reviews': []\n",
    "    }\n",
    "\n",
    "    for review in user['reviews']:\n",
    "        game_id = review['item_id']\n",
    "        game_info = game_details.get(game_id, {})\n",
    "        user_data[user_id]['reviews'].append({\n",
    "            'game_id': game_id,\n",
    "            'posted': review['posted'],\n",
    "            'recommend': review['recommend']\n",
    "            # 'tags': game_info.get('tags', []),\n",
    "            # 'review': review['review'],\n",
    "            # 'game_name': game_info.get('app_name', 'Unknown'),\n",
    "            # 'price': game_info.get('price', 0),\n",
    "            # 'discount_price': game_info.get('discount_price', 0),\n",
    "            # 'url': game_info.get('url', '')\n",
    "        })\n",
    "\n",
    "for user in user_reviews:\n",
    "    user_id = user['user_id']\n",
    "    user_data_map[user_id] = {\n",
    "        # 'user_url': user['user_url'],\n",
    "        'reviews': {}\n",
    "    }\n",
    "\n",
    "    for review in user['reviews']:\n",
    "        game_id = review['item_id']\n",
    "        game_info = game_details.get(game_id, {})\n",
    "        user_data_map[user_id][game_id] = {\n",
    "            'posted': review['posted'],\n",
    "            'recommend': review['recommend']\n",
    "            # 'tags': game_info.get('tags', []),\n",
    "            # 'review': review['review'],\n",
    "            # 'url': game_info.get('url', ''),\n",
    "            # 'game_name': game_info.get('app_name', 'Unknown'),\n",
    "            # 'price': game_info.get('price', 0),\n",
    "            # 'discount_price': game_info.get('discount_price', 0)\n",
    "        }\n",
    "\n",
    "\n",
    "\n",
    "for user in user_items:\n",
    "    user_id = user['user_id']\n",
    "    if user_id in user_data: \n",
    "        user_data[user_id]['items'] = []\n",
    "        for item in user['items']:\n",
    "            game_id = item['item_id']\n",
    "            game_info = game_details.get(game_id, {})\n",
    "            user_data[user_id]['items'].append({\n",
    "                'game_id': game_id,\n",
    "                'playtime_forever': item['playtime_forever'],\n",
    "                # 'price': game_info.get('price', 0)\n",
    "                # 'tags': game_info.get('tags', []),\n",
    "                # 'playtime_2weeks': item['playtime_2weeks'],\n",
    "                # 'game_name': game_info.get('app_name', 'Unknown'),\n",
    "                # 'discount_price': game_info.get('discount_price', 0),\n",
    "                # 'url': game_info.get('url', '')\n",
    "            })\n"
   ]
  },
  {
   "cell_type": "code",
   "execution_count": 74,
   "metadata": {},
   "outputs": [
    {
     "ename": "ValueError",
     "evalue": "setting an array element with a sequence. The requested array has an inhomogeneous shape after 1 dimensions. The detected shape was (2451,) + inhomogeneous part.",
     "output_type": "error",
     "traceback": [
      "\u001b[0;31m---------------------------------------------------------------------------\u001b[0m",
      "\u001b[0;31mValueError\u001b[0m                                Traceback (most recent call last)",
      "Cell \u001b[0;32mIn[74], line 38\u001b[0m\n\u001b[1;32m     34\u001b[0m         X_combined\u001b[38;5;241m.\u001b[39mappend([playtime] \u001b[38;5;241m+\u001b[39m tags_encoded\u001b[38;5;241m.\u001b[39mtolist() \u001b[38;5;241m+\u001b[39m [developer_encoded, overall_rating, user_avg_rating])\n\u001b[1;32m     36\u001b[0m         y_combined\u001b[38;5;241m.\u001b[39mappend(\u001b[38;5;241m1\u001b[39m \u001b[38;5;28;01mif\u001b[39;00m review[\u001b[38;5;124m'\u001b[39m\u001b[38;5;124mrecommend\u001b[39m\u001b[38;5;124m'\u001b[39m] \u001b[38;5;28;01melse\u001b[39;00m \u001b[38;5;241m0\u001b[39m)\n\u001b[0;32m---> 38\u001b[0m X_combined \u001b[38;5;241m=\u001b[39m \u001b[43mnp\u001b[49m\u001b[38;5;241;43m.\u001b[39;49m\u001b[43marray\u001b[49m\u001b[43m(\u001b[49m\u001b[43mX_combined\u001b[49m\u001b[43m)\u001b[49m\n\u001b[1;32m     39\u001b[0m y_combined \u001b[38;5;241m=\u001b[39m np\u001b[38;5;241m.\u001b[39marray(y_combined)\n\u001b[1;32m     41\u001b[0m X_train, X_test, y_train, y_test \u001b[38;5;241m=\u001b[39m train_test_split(X_combined, y_combined, test_size\u001b[38;5;241m=\u001b[39m\u001b[38;5;241m0.2\u001b[39m, random_state\u001b[38;5;241m=\u001b[39m\u001b[38;5;241m42\u001b[39m)\n",
      "\u001b[0;31mValueError\u001b[0m: setting an array element with a sequence. The requested array has an inhomogeneous shape after 1 dimensions. The detected shape was (2451,) + inhomogeneous part."
     ]
    }
   ],
   "source": [
    "import numpy as np\n",
    "from sklearn.preprocessing import MultiLabelBinarizer, LabelEncoder\n",
    "from sklearn.model_selection import train_test_split\n",
    "from sklearn.ensemble import RandomForestClassifier\n",
    "from sklearn.metrics import classification_report\n",
    "\n",
    "def get_game_overall_rating(game_id):\n",
    "    reviews = user_data.get(game_id, {}).get('reviews', [])\n",
    "    if len(reviews) == 0:\n",
    "        return 0\n",
    "    return sum(1 for r in reviews if r['recommend']) / len(reviews)\n",
    "\n",
    "\n",
    "X_combined = []\n",
    "y_combined = []\n",
    "\n",
    "for user_id, user_info in user_data.items():\n",
    "    for review in user_info.get('reviews', []):\n",
    "        game_id = review['game_id']\n",
    "        playtime = next((item['playtime_forever'] for item in user_info.get('items', []) if item['game_id'] == game_id), 0)\n",
    "        tags = game_details.get(game_id, {}).get('tags', [])\n",
    "        developer = game_details.get(game_id, {}).get('developer', 'Unknown')\n",
    "        overall_rating = get_game_overall_rating(game_id)  \n",
    "        user_avg_rating = sum(1 for r in user_info.get('reviews', []) if r['recommend']) / len(user_info.get('reviews', [])) if len(user_info.get('reviews', [])) > 0 else 0\n",
    "\n",
    "        # One-Hot Encoding tags\n",
    "        mlb = MultiLabelBinarizer()\n",
    "        tags_encoded = mlb.fit_transform([tags])[0]\n",
    "\n",
    "        # Label Encoding developer\n",
    "        le = LabelEncoder()\n",
    "        developer_encoded = le.fit_transform([developer])[0]\n",
    "\n",
    "        X_combined.append([playtime] + tags_encoded.tolist() + [developer_encoded, overall_rating, user_avg_rating])\n",
    "\n",
    "        y_combined.append(1 if review['recommend'] else 0)\n",
    "\n",
    "X_combined = np.array(X_combined)\n",
    "y_combined = np.array(y_combined)\n",
    "\n",
    "X_train, X_test, y_train, y_test = train_test_split(X_combined, y_combined, test_size=0.2, random_state=42)\n",
    "\n",
    "model = RandomForestClassifier()\n",
    "model.fit(X_train, y_train)\n",
    "\n",
    "y_pred = model.predict(X_test)\n",
    "print(classification_report(y_test, y_pred))\n",
    "\n"
   ]
  },
  {
   "cell_type": "code",
   "execution_count": null,
   "metadata": {},
   "outputs": [],
   "source": [
    "from sklearn.ensemble import VotingClassifier\n",
    "from sklearn.linear_model import LogisticRegression\n",
    "from sklearn.svm import SVC\n",
    "from sklearn.tree import DecisionTreeClassifier\n",
    "\n",
    "model1 = LogisticRegression()\n",
    "model2 = RandomForestClassifier()\n",
    "model3 = SVC()\n",
    "\n",
    "voting_clf = VotingClassifier(estimators=[('lr', model1), ('rf', model2), ('svc', model3)], voting='hard')\n",
    "\n",
    "voting_clf.fit(X_train, y_train)\n",
    "\n",
    "y_pred_voting = voting_clf.predict(X_test)\n",
    "print(classification_report(y_test, y_pred_voting))\n"
   ]
  }
 ],
 "metadata": {
  "kernelspec": {
   "display_name": "Python 3",
   "language": "python",
   "name": "python3"
  },
  "language_info": {
   "codemirror_mode": {
    "name": "ipython",
    "version": 3
   },
   "file_extension": ".py",
   "mimetype": "text/x-python",
   "name": "python",
   "nbconvert_exporter": "python",
   "pygments_lexer": "ipython3",
   "version": "3.10.12"
  }
 },
 "nbformat": 4,
 "nbformat_minor": 2
}
