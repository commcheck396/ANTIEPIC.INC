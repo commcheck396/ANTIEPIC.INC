{
 "cells": [
  {
   "cell_type": "code",
   "execution_count": 241,
   "metadata": {},
   "outputs": [],
   "source": [
    "import json\n",
    "import json5\n",
    "import demjson"
   ]
  },
  {
   "cell_type": "code",
   "execution_count": 242,
   "metadata": {},
   "outputs": [],
   "source": [
    "with open('../../data/australian_user_reviews.json', 'r') as f:\n",
    "    # user_reviews = demjson.decode(f.read())\n",
    "    user_reviews = json.load(f)\n"
   ]
  },
  {
   "cell_type": "code",
   "execution_count": 243,
   "metadata": {},
   "outputs": [],
   "source": [
    "\n",
    "with open('../../data/australian_users_items.json', 'r') as f:\n",
    "    # user_items = demjson.decode(f.read())\n",
    "    user_items = json.load(f)\n"
   ]
  },
  {
   "cell_type": "code",
   "execution_count": 244,
   "metadata": {},
   "outputs": [],
   "source": [
    "with open('../../data/steam_games.json', 'r') as f:\n",
    "    # steam_games = demjson.decode(f.read())\n",
    "    steam_games = json.load(f)\n",
    "\n",
    "# with open('../../data/steam_review.json', 'r') as f:\n",
    "#     steam_reviews = demjson.decode(f.read())"
   ]
  },
  {
   "cell_type": "code",
   "execution_count": 245,
   "metadata": {},
   "outputs": [
    {
     "data": {
      "text/plain": [
       "{'publisher': 'Kotoshiro',\n",
       " 'genres': ['Action', 'Casual', 'Indie', 'Simulation', 'Strategy'],\n",
       " 'url': 'http://store.steampowered.com/app/761140/Lost_Summoner_Kitty/',\n",
       " 'release_date': '2018-01-04',\n",
       " 'tags': ['Strategy', 'Action', 'Indie', 'Casual', 'Simulation'],\n",
       " 'discount_price': 4.49,\n",
       " 'reviews_url': 'http://steamcommunity.com/app/761140/reviews/?browsefilter=mostrecent&p=1',\n",
       " 'specs': ['Single-player'],\n",
       " 'price': 4.99,\n",
       " 'early_access': False,\n",
       " 'id': '761140',\n",
       " 'developer': 'Kotoshiro'}"
      ]
     },
     "execution_count": 245,
     "metadata": {},
     "output_type": "execute_result"
    }
   ],
   "source": [
    "steam_games[0]"
   ]
  },
  {
   "cell_type": "code",
<<<<<<< HEAD
<<<<<<< HEAD
<<<<<<< HEAD
   "execution_count": 213,
   "metadata": {},
   "outputs": [
    {
     "data": {
      "text/plain": [
       "{'user_id': '76561197970982479',\n",
       " 'user_url': 'http://steamcommunity.com/profiles/76561197970982479',\n",
       " 'reviews': [{'funny': '',\n",
       "   'posted': 'Posted November 5, 2011.',\n",
       "   'last_edited': '',\n",
       "   'item_id': '1250',\n",
       "   'helpful': 'No ratings yet',\n",
       "   'recommend': True},\n",
       "  {'funny': '',\n",
       "   'posted': 'Posted July 15, 2011.',\n",
       "   'last_edited': '',\n",
       "   'item_id': '22200',\n",
       "   'helpful': 'No ratings yet',\n",
       "   'recommend': True},\n",
       "  {'funny': '',\n",
       "   'posted': 'Posted April 21, 2011.',\n",
       "   'last_edited': '',\n",
       "   'item_id': '43110',\n",
       "   'helpful': 'No ratings yet',\n",
       "   'recommend': True}]}"
      ]
     },
     "execution_count": 213,
     "metadata": {},
     "output_type": "execute_result"
    }
   ],
   "source": [
    "user_reviews[0]"
   ]
  },
  {
   "cell_type": "code",
   "execution_count": 214,
   "metadata": {},
   "outputs": [
    {
     "data": {
      "text/plain": [
       "{'publisher': 'Kotoshiro',\n",
       " 'genres': ['Action', 'Casual', 'Indie', 'Simulation', 'Strategy'],\n",
       " 'url': 'http://store.steampowered.com/app/761140/Lost_Summoner_Kitty/',\n",
       " 'release_date': '2018-01-04',\n",
       " 'tags': ['Strategy', 'Action', 'Indie', 'Casual', 'Simulation'],\n",
       " 'discount_price': 4.49,\n",
       " 'reviews_url': 'http://steamcommunity.com/app/761140/reviews/?browsefilter=mostrecent&p=1',\n",
       " 'specs': ['Single-player'],\n",
       " 'price': 4.99,\n",
       " 'early_access': False,\n",
       " 'id': '761140',\n",
       " 'developer': 'Kotoshiro'}"
      ]
     },
     "execution_count": 214,
     "metadata": {},
     "output_type": "execute_result"
    }
   ],
   "source": [
    "steam_games[0]"
   ]
  },
  {
   "cell_type": "code",
   "execution_count": 216,
   "metadata": {},
   "outputs": [],
=======
=======
>>>>>>> c683fc9 (test added)
   "metadata": {
    "jupyter": {
     "is_executing": true
    }
   },
<<<<<<< HEAD
>>>>>>> 4b3322a (add time weight)
=======
=======
   "execution_count": 213,
=======
   "execution_count": 246,
>>>>>>> dc40452 (SMOTE try)
   "metadata": {},
   "outputs": [
    {
     "data": {
      "text/plain": [
       "{'user_id': '76561197970982479',\n",
       " 'user_url': 'http://steamcommunity.com/profiles/76561197970982479',\n",
       " 'reviews': [{'funny': '',\n",
       "   'posted': 'Posted November 5, 2011.',\n",
       "   'last_edited': '',\n",
       "   'item_id': '1250',\n",
       "   'helpful': 'No ratings yet',\n",
       "   'recommend': True},\n",
       "  {'funny': '',\n",
       "   'posted': 'Posted July 15, 2011.',\n",
       "   'last_edited': '',\n",
       "   'item_id': '22200',\n",
       "   'helpful': 'No ratings yet',\n",
       "   'recommend': True},\n",
       "  {'funny': '',\n",
       "   'posted': 'Posted April 21, 2011.',\n",
       "   'last_edited': '',\n",
       "   'item_id': '43110',\n",
       "   'helpful': 'No ratings yet',\n",
       "   'recommend': True}]}"
      ]
     },
     "execution_count": 246,
     "metadata": {},
     "output_type": "execute_result"
    }
   ],
   "source": [
    "user_reviews[0]"
   ]
  },
  {
   "cell_type": "code",
   "execution_count": 247,
   "metadata": {},
   "outputs": [
    {
     "data": {
      "text/plain": [
       "{'publisher': 'Kotoshiro',\n",
       " 'genres': ['Action', 'Casual', 'Indie', 'Simulation', 'Strategy'],\n",
       " 'url': 'http://store.steampowered.com/app/761140/Lost_Summoner_Kitty/',\n",
       " 'release_date': '2018-01-04',\n",
       " 'tags': ['Strategy', 'Action', 'Indie', 'Casual', 'Simulation'],\n",
       " 'discount_price': 4.49,\n",
       " 'reviews_url': 'http://steamcommunity.com/app/761140/reviews/?browsefilter=mostrecent&p=1',\n",
       " 'specs': ['Single-player'],\n",
       " 'price': 4.99,\n",
       " 'early_access': False,\n",
       " 'id': '761140',\n",
       " 'developer': 'Kotoshiro'}"
      ]
     },
     "execution_count": 247,
     "metadata": {},
     "output_type": "execute_result"
    }
   ],
   "source": [
    "steam_games[0]"
   ]
  },
  {
   "cell_type": "code",
   "execution_count": 248,
   "metadata": {},
   "outputs": [],
<<<<<<< HEAD
>>>>>>> 65e84d9 (test added)
>>>>>>> c683fc9 (test added)
=======
>>>>>>> dc40452 (SMOTE try)
   "source": [
    "game_details = {\n",
    "    game.get('id', None): {\n",
    "        'developer': game.get('developer', None),\n",
    "        'tags': game.get('tags', None)\n",
    "    } for game in steam_games if game.get('id') is not None \n",
    "}\n",
    "\n",
    "\n",
    "\n",
    "\n",
    "user_data_map = {}\n",
    "\n",
    "for user in user_reviews:\n",
    "    user_id = user['user_id']\n",
    "    user_data_map[user_id] = {\n",
    "        'reviews': {},\n",
    "        'items': {}\n",
    "    }\n",
    "\n",
    "    for review in user['reviews']:\n",
    "        game_id = review['item_id']\n",
    "        game_info = game_details.get(game_id, {})\n",
    "        user_data_map[user_id]['reviews'][game_id] = {\n",
    "            'posted': review['posted'],\n",
    "            'recommend': review['recommend']\n",
    "        }\n",
    "\n",
    "\n",
    "\n",
    "\n",
    "for user in user_items:\n",
    "    user_id = user['user_id']\n",
    "    if user_id in user_data_map: \n",
    "        for item in user['items']:\n",
    "            game_id = item['item_id']\n",
    "            game_info = game_details.get(game_id, {})\n",
    "            if user_id not in user_data_map:\n",
    "                user_data_map[user_id] = {\n",
    "                    'reviews': {},\n",
    "                    'items': {}\n",
    "                }\n",
    "            user_data_map[user_id]['items'][game_id] = {\n",
    "                'game_id': game_id,\n",
    "                'playtime_forever': item['playtime_forever'],\n",
<<<<<<< HEAD
<<<<<<< HEAD
<<<<<<< HEAD
    "            }\n"
   ]
  },
  {
   "cell_type": "code",
   "execution_count": 221,
   "metadata": {},
   "outputs": [
    {
     "name": "stdout",
     "output_type": "stream",
     "text": [
      "MeaTCompany {'reviews': {'730': {'posted': 'Posted July 24.', 'recommend': True}}, 'items': {'240': {'game_id': '240', 'playtime_forever': 3209}, '500': {'game_id': '500', 'playtime_forever': 390}, '620': {'game_id': '620', 'playtime_forever': 43}, '105600': {'game_id': '105600', 'playtime_forever': 416}, '207490': {'game_id': '207490', 'playtime_forever': 278}, '208480': {'game_id': '208480', 'playtime_forever': 67}, '202970': {'game_id': '202970', 'playtime_forever': 832}, '202990': {'game_id': '202990', 'playtime_forever': 2176}, '212910': {'game_id': '212910', 'playtime_forever': 91}, '38830': {'game_id': '38830', 'playtime_forever': 0}, '99900': {'game_id': '99900', 'playtime_forever': 183}, '104700': {'game_id': '104700', 'playtime_forever': 0}, '304930': {'game_id': '304930', 'playtime_forever': 3}, '730': {'game_id': '730', 'playtime_forever': 18481}}}\n",
      "761140 {'developer': 'Kotoshiro', 'tags': ['Strategy', 'Action', 'Indie', 'Casual', 'Simulation']}\n"
     ]
    }
   ],
=======
=======
>>>>>>> c683fc9 (test added)
    "            }\n",
    "\n",
    "\n",
    "user_data = {}\n",
    "\n",
    "\n",
    "for user in user_reviews:\n",
    "    user_id = user['user_id']\n",
    "    user_data[user_id] = {\n",
    "        'reviews': []\n",
    "    }\n",
    "\n",
    "    for review in user['reviews']:\n",
    "        game_id = review['item_id']\n",
    "        game_info = game_details.get(game_id, {})\n",
    "        user_data[user_id]['reviews'].append({\n",
    "            'game_id': game_id,\n",
    "            'posted': review['posted'],\n",
    "            'recommend': review['recommend']\n",
    "        })\n",
    "\n",
    "for user in user_items:\n",
    "    user_id = user['user_id']\n",
    "    if user_id in user_data: \n",
    "        user_data[user_id]['items'] = []\n",
    "        for item in user['items']:\n",
    "            game_id = item['item_id']\n",
    "            game_info = game_details.get(game_id, {})\n",
    "            user_data[user_id]['items'].append({\n",
    "                'game_id': game_id,\n",
    "                'playtime_forever': item['playtime_forever'],\n",
    "            })"
   ],
   "outputs": [],
   "execution_count": null
  },
  {
   "cell_type": "code",
   "metadata": {
    "jupyter": {
     "is_executing": true
    }
   },
<<<<<<< HEAD
>>>>>>> 4b3322a (add time weight)
=======
=======
=======
>>>>>>> dc40452 (SMOTE try)
    "            }\n"
   ]
  },
  {
   "cell_type": "code",
   "execution_count": 249,
   "metadata": {},
   "outputs": [
    {
     "name": "stdout",
     "output_type": "stream",
     "text": [
      "MeaTCompany {'reviews': {'730': {'posted': 'Posted July 24.', 'recommend': True}}, 'items': {'240': {'game_id': '240', 'playtime_forever': 3209}, '500': {'game_id': '500', 'playtime_forever': 390}, '620': {'game_id': '620', 'playtime_forever': 43}, '105600': {'game_id': '105600', 'playtime_forever': 416}, '207490': {'game_id': '207490', 'playtime_forever': 278}, '208480': {'game_id': '208480', 'playtime_forever': 67}, '202970': {'game_id': '202970', 'playtime_forever': 832}, '202990': {'game_id': '202990', 'playtime_forever': 2176}, '212910': {'game_id': '212910', 'playtime_forever': 91}, '38830': {'game_id': '38830', 'playtime_forever': 0}, '99900': {'game_id': '99900', 'playtime_forever': 183}, '104700': {'game_id': '104700', 'playtime_forever': 0}, '304930': {'game_id': '304930', 'playtime_forever': 3}, '730': {'game_id': '730', 'playtime_forever': 18481}}}\n",
      "761140 {'developer': 'Kotoshiro', 'tags': ['Strategy', 'Action', 'Indie', 'Casual', 'Simulation']}\n"
     ]
    }
   ],
<<<<<<< HEAD
>>>>>>> 65e84d9 (test added)
>>>>>>> c683fc9 (test added)
=======
>>>>>>> dc40452 (SMOTE try)
   "source": [
    "for k, v in user_data_map.items():\n",
    "    if len(v['items']) > 0:\n",
    "        print(k, v)\n",
    "        break\n",
    "\n",
<<<<<<< HEAD
<<<<<<< HEAD
<<<<<<< HEAD
    "for k, v in game_details.items():\n",
    "    print(k, v)\n",
    "    break"
   ]
=======
=======
>>>>>>> c683fc9 (test added)
    "gameToDeveloper = {}\n",
    "for game in steam_games:\n",
    "    gameToDeveloper[game['id']] = game['developer']"
   ],
   "outputs": [],
   "execution_count": null
<<<<<<< HEAD
>>>>>>> 4b3322a (add time weight)
=======
=======
=======
>>>>>>> dc40452 (SMOTE try)
    "for k, v in game_details.items():\n",
    "    print(k, v)\n",
    "    break"
   ]
<<<<<<< HEAD
>>>>>>> 65e84d9 (test added)
>>>>>>> c683fc9 (test added)
=======
>>>>>>> dc40452 (SMOTE try)
  },
  {
   "cell_type": "code",
   "execution_count": 250,
   "metadata": {},
   "outputs": [],
   "source": [
    "def get_user_game_playtime(user_data_map, user_id, game_id):\n",
    "    \"\"\"\n",
    "    获取用户在特定游戏的总游戏时长\n",
    "    \n",
    "    参数:\n",
    "    - user_data_map: 用户游戏数据映射\n",
    "    - user_id: 用户ID\n",
    "    - game_id: 游戏ID\n",
    "    \n",
    "    返回:\n",
    "    - 游戏时长（分钟），如果没有找到则返回0\n",
    "    \"\"\"\n",
    "    # 检查用户是否存在于用户数据映射中\n",
    "    if user_id not in user_data_map:\n",
    "        return 0\n",
    "    \n",
    "    # 检查用户是否玩过该游戏\n",
    "    user_items = user_data_map[user_id].get('items', {})\n",
    "    if game_id not in user_items:\n",
    "        return 0\n",
    "    \n",
    "    # 返回游戏时长\n",
    "    return user_items[game_id].get('playtime_forever', 0)\n",
    "\n",
    "\n",
    "def get_game_tags(game_details, game_id):\n",
    "    \"\"\"\n",
    "    获取游戏的标签\n",
    "    \n",
    "    参数:\n",
    "    - game_details: 游戏详情数据\n",
    "    - game_id: 游戏ID\n",
    "    \n",
    "    返回:\n",
    "    - 游戏标签列表，如果没有找到则返回空列表\n",
    "    \"\"\"\n",
    "    # 检查游戏是否存在于游戏详情数据中\n",
    "    if game_id not in game_details:\n",
    "        return []\n",
    "    \n",
    "    tags = game_details[game_id].get('tags', [])\n",
    "    return tags if tags else []\n",
    "\n",
    "\n",
    "def get_game_developer(game_details, game_id):\n",
    "    \"\"\"\n",
    "    获取游戏的开发者\n",
    "    \n",
    "    参数:\n",
    "    - game_details: 游戏详情数据\n",
    "    - game_id: 游戏ID\n",
    "    \n",
    "    返回:\n",
    "    - 游戏开发者，如果没有找到则返回空字符串\n",
    "    \"\"\"\n",
    "    # 检查游戏是否存在于游戏详情数据中\n",
    "    if game_id not in game_details:\n",
    "        return ''\n",
    "    \n",
    "    return game_details[game_id].get('developer', '')\n",
    "\n",
    "\n",
    "def get_tags_user_played(user_data_map, user_id):\n",
    "    \"\"\"\n",
    "    获取用户玩过的游戏标签\n",
    "    \n",
    "    参数:\n",
    "    - user_data_map: 用户游戏数据映射\n",
    "    - user_id: 用户ID\n",
    "    \n",
    "    返回:\n",
    "    - 用户玩过的游戏标签列表\n",
    "    \"\"\"\n",
    "    # 检查用户是否存在于用户数据映射中\n",
    "    if user_id not in user_data_map:\n",
    "        return []\n",
    "    \n",
    "    # 获取用户玩过的游戏ID列表\n",
    "    user_items = user_data_map[user_id].get('items', {})\n",
    "    game_ids = user_items.keys()\n",
    "    \n",
    "    # 获取用户玩过的游戏标签\n",
    "    tags = []\n",
    "    for game_id in game_ids:\n",
    "        game_tags = get_game_tags(game_details, game_id)\n",
    "        if game_tags:\n",
    "            tags.extend(game_tags)\n",
    "\n",
    "    return tags\n",
    "\n",
    "def get_developer_user_played(user_data_map, user_id):\n",
    "    \"\"\"\n",
    "    获取用户玩过的游戏开发者\n",
    "    \n",
    "    参数:\n",
    "    - user_data_map: 用户游戏数据映射\n",
    "    - user_id: 用户ID\n",
    "    \n",
    "    返回:\n",
    "    - 用户玩过的游戏开发者列表\n",
    "    \"\"\"\n",
    "    # 检查用户是否存在于用户数据映射中\n",
    "    if user_id not in user_data_map:\n",
    "        return []\n",
    "    \n",
    "    # 获取用户玩过的游戏ID列表\n",
    "    user_items = user_data_map[user_id].get('items', {})\n",
    "    game_ids = user_items.keys()\n",
    "    \n",
    "    # 获取用户玩过的游戏开发者\n",
    "    developers = []\n",
    "    for game_id in game_ids:\n",
    "        developers.append(get_game_developer(game_details, game_id))\n",
    "    \n",
    "    return developers\n",
    "\n",
    "\n",
    "def get_user_recommend_rate(user_data_map, user_id):\n",
    "    \"\"\"\n",
    "    获取用户推荐率\n",
    "    \n",
    "    参数:\n",
    "    - user_data_map: 用户游戏数据映射\n",
    "    - user_id: 用户ID\n",
    "    \n",
    "    返回:\n",
    "    - 用户推荐率\n",
    "    \"\"\"\n",
    "    # 检查用户是否存在于用户数据映射中\n",
    "    if user_id not in user_data_map:\n",
    "        return 0\n",
    "    \n",
    "    # 获取用户的所有评价\n",
    "    user_reviews = user_data_map[user_id].get('reviews', {})\n",
    "    reviews = user_reviews.values()\n",
    "    \n",
    "    # 计算用户的推荐率\n",
    "    total_reviews = len(reviews)\n",
    "    if total_reviews == 0:\n",
    "        return 0\n",
    "    \n",
    "    total_recommend = 0\n",
    "    for review in reviews:\n",
    "        total_recommend += review.get('recommend', False)\n",
    "    \n",
    "    return total_recommend / total_reviews\n",
    "\n",
    "\n",
    "def get_game_recommend_rate(user_data_map, game_id):\n",
    "    \"\"\"\n",
    "    获取游戏的推荐率\n",
    "    \n",
    "    参数:\n",
    "    - user_data_map: 用户游戏数据映射\n",
    "    - game_id: 游戏ID\n",
    "    \n",
    "    返回:\n",
    "    - 游戏推荐率\n",
    "    \"\"\"\n",
    "    # 获取玩过该游戏的用户ID列表\n",
    "    user_ids = [user_id for user_id, user_data in user_data_map.items() if game_id in user_data['items']]\n",
    "    \n",
    "    # 计算游戏的推荐率\n",
    "    total_users = len(user_ids)\n",
    "    if total_users == 0:\n",
    "        return 0\n",
    "    \n",
    "    total_recommend = 0\n",
    "    for user_id in user_ids:\n",
    "        total_recommend += get_user_recommend_rate(user_data_map, user_id)\n",
    "    \n",
    "    return total_recommend / total_users\n",
    "\n",
    "\n",
    "def get_game_jaccard_similarity(game_id_1, game_id_2):\n",
    "    \"\"\"\n",
    "    获取两个游戏的Jaccard相似度\n",
    "    \n",
    "    参数:\n",
    "    - game_id_1: 游戏ID1\n",
    "    - game_id_2: 游戏ID2\n",
    "    \n",
    "    返回:\n",
    "    - 两个游戏的Jaccard相似度\n",
    "    \"\"\"\n",
    "    # 获取两个游戏的标签\n",
    "    tags_1 = set(get_game_tags(game_details, game_id_1))\n",
    "    tags_2 = set(get_game_tags(game_details, game_id_2))\n",
    "    \n",
    "    # 计算Jaccard相似度\n",
    "    union = tags_1.union(tags_2)\n",
    "    intersection = tags_1.intersection(tags_2)\n",
    "    return len(intersection) / len(union) if len(union) > 0 else 0\n",
    "\n",
    "\n",
    "def get_user_jaccard_similarity(user_id_1, user_id_2):\n",
    "    \"\"\"\n",
    "    获取两个用户的Jaccard相似度\n",
    "    \n",
    "    参数:\n",
    "    - user_id_1: 用户ID1\n",
    "    - user_id_2: 用户ID2\n",
    "    \n",
    "    返回:\n",
    "    - 两个用户的Jaccard相似度\n",
    "    \"\"\"\n",
    "    # 获取两个用户的标签\n",
    "    tags_1 = set(get_tags_user_played(user_data_map, user_id_1))\n",
    "    tags_2 = set(get_tags_user_played(user_data_map, user_id_2))\n",
    "    \n",
    "    # 计算Jaccard相似度\n",
    "    union = tags_1.union(tags_2)\n",
    "    intersection = tags_1.intersection(tags_2)\n",
    "    return len(intersection) / len(union) if len(union) > 0 else 0\n"
   ]
  },
  {
   "cell_type": "code",
   "execution_count": 251,
   "metadata": {},
   "outputs": [
    {
     "name": "stdout",
     "output_type": "stream",
     "text": [
      "3\n",
      "['Free to Play', 'Survival', 'Zombies', 'Multiplayer', 'Open World', 'Adventure', 'Crafting', 'Action', 'First-Person', 'Co-op', 'Sandbox', 'Post-apocalyptic', 'Shooter', 'FPS', 'Singleplayer', 'Massively Multiplayer', 'Indie', 'Atmospheric', 'Casual', 'Horror']\n",
      "Smartly Dressed Games\n",
      "['Action', 'FPS', 'Multiplayer', 'Shooter', 'Team-Based', 'Tactical', 'First-Person', 'Competitive', 'PvP', 'Military', 'War', 'e-sports', 'Moddable', 'Strategy', 'Difficult', 'Singleplayer', 'Survival', 'Simulation', 'Atmospheric', 'Sandbox', 'Zombies', 'Co-op', 'FPS', 'Action', 'Multiplayer', 'Shooter', 'Online Co-Op', 'Team-Based', 'First-Person', 'Horror', 'Survival', 'Post-apocalyptic', 'Singleplayer', 'Atmospheric', 'Adventure', 'Tactical', 'Competitive', 'Moddable', 'Female Protagonist', 'Replay Value', 'Puzzle', 'Co-op', 'First-Person', 'Sci-fi', 'Comedy', 'Singleplayer', 'Adventure', 'Online Co-Op', 'Funny', 'Science', 'Female Protagonist', 'Action', 'Story Rich', 'Multiplayer', 'Atmospheric', 'Local Co-Op', 'FPS', 'Strategy', 'Space', 'Platformer', 'Sandbox', 'Adventure', 'Survival', '2D', 'Multiplayer', 'Crafting', 'Building', 'Exploration', 'Pixel Graphics', 'Co-op', 'Indie', 'Open World', 'Action', 'RPG', 'Online Co-Op', 'Singleplayer', 'Platformer', 'Replay Value', 'Atmospheric', 'Family Friendly', 'Platformer', 'Local Co-Op', '2D', 'Adventure', 'Action', 'Great Soundtrack', 'Cartoony', 'Colorful', 'Funny', 'Singleplayer', 'Co-op', 'Local Multiplayer', 'Comedy', 'Side Scroller', 'Family Friendly', '4 Player Local', 'Controller', 'Fantasy', 'Difficult', '3D Vision', 'Adventure', 'Open World', 'Action', 'Parkour', 'Assassin', 'Stealth', 'Third Person', 'Historical', 'Multiplayer', 'America', 'Singleplayer', 'Story Rich', 'Hunting', 'Atmospheric', 'Action-Adventure', 'Sandbox', 'Alternate History', 'Conspiracy', 'Controller', 'Casual', 'Action', 'Multiplayer', 'FPS', 'Shooter', 'First-Person', 'Singleplayer', 'Co-op', 'War', 'Online Co-Op', 'Team-Based', 'Futuristic', 'Survival', 'Controller', 'Adventure', 'Tactical', 'Great Soundtrack', 'Sci-fi', 'Massively Multiplayer', 'Atmospheric', 'Horror', 'Free to Play', 'Massively Multiplayer', 'Adventure', 'RPG', 'Action', 'Multiplayer', 'Online Co-Op', 'Dungeon Crawler', 'Hack and Slash', 'MMORPG', 'Co-op', 'Cute', 'Action RPG', 'Sci-fi', 'Great Soundtrack', 'Open World', 'Singleplayer', 'Indie', 'Casual', 'Anime', 'Free to Play', 'Action', 'Multiplayer', 'MOBA', 'Shooter', 'Third-Person Shooter', 'Strategy', 'Funny', 'Indie', 'Sports', 'Competitive', 'Character Customization', 'Massively Multiplayer', 'Co-op', 'Third Person', 'First-Person', 'Comedy', 'Adventure', 'Class-Based', 'Singleplayer', 'Free to Play', 'Survival', 'Zombies', 'Multiplayer', 'Open World', 'Adventure', 'Crafting', 'Action', 'First-Person', 'Co-op', 'Sandbox', 'Post-apocalyptic', 'Shooter', 'FPS', 'Singleplayer', 'Massively Multiplayer', 'Indie', 'Atmospheric', 'Casual', 'Horror', 'FPS', 'Multiplayer', 'Shooter', 'Action', 'Team-Based', 'Competitive', 'Tactical', 'First-Person', 'e-sports', 'PvP', 'Online Co-Op', 'Military', 'Co-op', 'Strategy', 'War', 'Trading', 'Realistic', 'Difficult', 'Fast-Paced', 'Moddable']\n",
      "['Valve', 'Valve', 'Valve', 'Re-Logic', 'UBIart Montpellier,Feral Interactive (Mac)', 'Ubisoft Montreal', 'Treyarch', '', '', '', 'Grey Havens', 'Uber Entertainment', 'Smartly Dressed Games', 'Valve']\n",
      "1.0\n",
      "0.9302082587420931\n",
      "0.0\n",
      "0.0\n"
     ]
    }
   ],
   "source": [
    "# test get_user_game_playtime\n",
    "print(get_user_game_playtime(user_data_map, 'MeaTCompany', '304930'))  \n",
    "\n",
    "# test get_game_tags\n",
    "print(get_game_tags(game_details, '304930'))\n",
    "\n",
    "# test get_game_developer\n",
    "print(get_game_developer(game_details, '304930'))\n",
    "\n",
    "# test get_tags_user_played\n",
    "print(get_tags_user_played(user_data_map, 'MeaTCompany'))\n",
    "\n",
    "# test get_developer_user_played\n",
    "print(get_developer_user_played(user_data_map, 'MeaTCompany'))\n",
    "\n",
    "# test get_user_recommend_rate\n",
    "print(get_user_recommend_rate(user_data_map, 'MeaTCompany'))\n",
    "\n",
    "# test get_game_recommend_rate\n",
    "print(get_game_recommend_rate(user_data_map, '304930'))\n",
    "\n",
    "# test get_game_jaccard_similarity\n",
    "print(get_game_jaccard_similarity('304930', '570940'))\n",
    "\n",
    "# test get_user_jaccard_similarity\n",
    "print(get_user_jaccard_similarity('MeaTCompany', '76561198035864385'))"
   ]
  },
  {
   "cell_type": "code",
   "execution_count": 252,
   "metadata": {},
   "outputs": [],
   "source": [
    "import numpy as np\n",
    "import pandas as pd\n",
    "from sklearn.model_selection import train_test_split\n",
    "from sklearn.ensemble import RandomForestClassifier\n",
    "from sklearn.metrics import accuracy_score, precision_score, recall_score, f1_score\n",
    "\n",
    "def extract_features(user_id, game_id):\n",
    "    \"\"\"\n",
    "    提取用户和游戏的特征\n",
    "    \"\"\"\n",
    "    features = {}\n",
    "    \n",
    "    features[\"playtime\"] = get_user_game_playtime(user_data_map, user_id, game_id)\n",
    "\n",
    "    user_tags = set(get_tags_user_played(user_data_map, user_id))\n",
    "    game_tags = set(get_game_tags(game_details, game_id))\n",
    "    features[\"tag_similarity\"] = len(user_tags.intersection(game_tags)) / len(user_tags.union(game_tags)) if user_tags and game_tags else 0\n",
    "\n",
    "    game_dev = get_game_developer(game_details, game_id)\n",
    "    user_devs = set(get_developer_user_played(user_data_map, user_id))\n",
    "    features[\"developer_similarity\"] = 1 if game_dev in user_devs else 0\n",
    "\n",
    "    features[\"game_recommend_rate\"] = get_game_recommend_rate(user_data_map, game_id)\n",
    "\n",
    "    features[\"user_recommend_rate\"] = get_user_recommend_rate(user_data_map, user_id)\n",
    "\n",
    "    recommended_games = [g_id for g_id in user_data_map[user_id].get('items', {}).keys() if user_data_map[user_id]['reviews'].get(g_id, {}).get('recommend', False)]\n",
    "    game_jaccard = [get_game_jaccard_similarity(game_id, rec_game) for rec_game in recommended_games]\n",
    "    features[\"game_jaccard_similarity\"] = np.mean(game_jaccard) if game_jaccard else 0\n",
    "\n",
    "    recommenders = [uid for uid, udata in user_data_map.items() if game_id in udata.get('items', {}) and udata['reviews'].get(game_id, {}).get('recommend', False)]\n",
    "    user_jaccard = [get_user_jaccard_similarity(user_id, recommender) for recommender in recommenders]\n",
    "    features[\"user_jaccard_similarity\"] = np.mean(user_jaccard) if user_jaccard else 0\n",
    "    \n",
    "    return features\n"
   ]
  },
  {
   "cell_type": "code",
   "execution_count": 253,
   "metadata": {},
   "outputs": [
    {
     "data": {
      "text/plain": [
       "{'playtime': 0,\n",
       " 'tag_similarity': 0,\n",
       " 'developer_similarity': 0,\n",
       " 'game_recommend_rate': 0.9242888888888889,\n",
       " 'user_recommend_rate': 1.0,\n",
       " 'game_jaccard_similarity': 0,\n",
       " 'user_jaccard_similarity': np.float64(0.0)}"
      ]
     },
     "execution_count": 253,
     "metadata": {},
     "output_type": "execute_result"
    }
   ],
   "source": [
    "# test extract_features\n",
    "extract_features('76561197970982479', '1250')"
   ]
  },
  {
   "cell_type": "code",
   "execution_count": null,
   "metadata": {},
   "outputs": [
    {
     "name": "stdout",
     "output_type": "stream",
     "text": [
      "Accuracy: 0.9915913766884337\n",
      "Precision: 0.9581818181818181\n",
      "Recall: 0.8812709030100334\n",
      "F1 Score: 0.9181184668989547\n"
     ]
    }
   ],
   "source": [
    "from imblearn.over_sampling import SMOTE\n",
    "X = []\n",
    "y = []\n",
    "\n",
    "for user_id, user_data in user_data_map.items():\n",
    "    for game_id in user_data.get('items', {}):\n",
    "        features = extract_features(user_id, game_id)\n",
    "        X.append(features)\n",
    "        \n",
    "        is_recommended = user_data['reviews'].get(game_id, {}).get('recommend', False)\n",
    "        y.append(1 if is_recommended else 0)\n",
    "\n",
    "X = pd.DataFrame(X)\n",
    "y = np.array(y)\n",
    "\n",
    "X_train, X_test, y_train, y_test = train_test_split(X, y, test_size=0.2, random_state=42)\n",
    "smote = SMOTE(random_state=42)\n",
    "X_train_resampled, y_train_resampled = smote.fit_resample(X_train, y_train)\n",
    "\n",
    "# 训练模型\n",
    "model = RandomForestClassifier(random_state=42)\n",
    "model.fit(X_train_resampled, y_train_resampled)\n",
    "\n",
    "y_pred = model.predict(X_test)\n",
    "print(\"Accuracy:\", accuracy_score(y_test, y_pred))\n",
    "print(\"Precision:\", precision_score(y_test, y_pred))\n",
    "print(\"Recall:\", recall_score(y_test, y_pred))\n",
    "print(\"F1 Score:\", f1_score(y_test, y_pred))"
   ]
  }
 ],
 "metadata": {
  "kernelspec": {
   "display_name": "Python 3",
   "language": "python",
   "name": "python3"
  },
  "language_info": {
   "codemirror_mode": {
    "name": "ipython",
    "version": 3
   },
   "file_extension": ".py",
   "mimetype": "text/x-python",
   "name": "python",
   "nbconvert_exporter": "python",
   "pygments_lexer": "ipython3",
   "version": "3.10.12"
  }
 },
 "nbformat": 4,
 "nbformat_minor": 2
}
